{
  "cells": [
    {
      "cell_type": "markdown",
      "metadata": {
        "id": "view-in-github",
        "colab_type": "text"
      },
      "source": [
        "<a href=\"https://colab.research.google.com/github/yassgt/YassOnAir/blob/main/Tesis.ipynb\" target=\"_parent\"><img src=\"https://colab.research.google.com/assets/colab-badge.svg\" alt=\"Open In Colab\"/></a>"
      ]
    },
    {
      "cell_type": "code",
      "execution_count": 6,
      "metadata": {
        "id": "OTeEHz7ZFZxy",
        "colab": {
          "base_uri": "https://localhost:8080/"
        },
        "outputId": "2f314874-0e84-4a68-b070-080eaab55348"
      },
      "outputs": [
        {
          "output_type": "stream",
          "name": "stdout",
          "text": [
            "\u001b[K     |████████████████████████████████| 9.1 MB 9.0 MB/s \n",
            "\u001b[K     |████████████████████████████████| 78 kB 8.7 MB/s \n",
            "\u001b[K     |████████████████████████████████| 181 kB 53.7 MB/s \n",
            "\u001b[K     |████████████████████████████████| 4.7 MB 41.8 MB/s \n",
            "\u001b[K     |████████████████████████████████| 164 kB 61.8 MB/s \n",
            "\u001b[K     |████████████████████████████████| 235 kB 58.8 MB/s \n",
            "\u001b[K     |████████████████████████████████| 63 kB 2.0 MB/s \n",
            "\u001b[K     |████████████████████████████████| 51 kB 7.7 MB/s \n",
            "\u001b[?25h  Building wheel for validators (setup.py) ... \u001b[?25l\u001b[?25hdone\n"
          ]
        }
      ],
      "source": [
        "!pip install -q streamlit"
      ]
    },
    {
      "cell_type": "code",
      "execution_count": 7,
      "metadata": {
        "id": "ONCfy1QEFb5j",
        "colab": {
          "base_uri": "https://localhost:8080/"
        },
        "outputId": "29f25448-17e5-41cb-adba-26f58df53e69"
      },
      "outputs": [
        {
          "output_type": "stream",
          "name": "stdout",
          "text": [
            "Looking in indexes: https://pypi.org/simple, https://us-python.pkg.dev/colab-wheels/public/simple/\n",
            "Collecting pyngrok\n",
            "  Downloading pyngrok-5.1.0.tar.gz (745 kB)\n",
            "\u001b[K     |████████████████████████████████| 745 kB 7.2 MB/s \n",
            "\u001b[?25hRequirement already satisfied: PyYAML in /usr/local/lib/python3.7/dist-packages (from pyngrok) (6.0)\n",
            "Building wheels for collected packages: pyngrok\n",
            "  Building wheel for pyngrok (setup.py) ... \u001b[?25l\u001b[?25hdone\n",
            "  Created wheel for pyngrok: filename=pyngrok-5.1.0-py3-none-any.whl size=19007 sha256=8840d6fb5bdb739d90872a010d11a75d68ce5f3a8e5d968b064b011189563842\n",
            "  Stored in directory: /root/.cache/pip/wheels/bf/e6/af/ccf6598ecefecd44104069371795cb9b3afbcd16987f6ccfb3\n",
            "Successfully built pyngrok\n",
            "Installing collected packages: pyngrok\n",
            "Successfully installed pyngrok-5.1.0\n"
          ]
        }
      ],
      "source": [
        "!pip install pyngrok"
      ]
    },
    {
      "cell_type": "code",
      "execution_count": null,
      "metadata": {
        "id": "IM9i3WYzFdei"
      },
      "outputs": [],
      "source": [
        "from pyngrok import ngrok \n",
        "# connect ngrock\n",
        "public_url = ngrok.connect(port='8501')\n",
        "public_url"
      ]
    },
    {
      "cell_type": "code",
      "execution_count": null,
      "metadata": {
        "id": "r6ftm_moFd8z"
      },
      "outputs": [],
      "source": [
        "from google.colab import auth\n",
        "import gspread\n",
        "from google.auth import default\n",
        "from google.colab import data_table\n",
        "import pandas as pd\n",
        "\n",
        "# izin collab \n",
        "auth.authenticate_user()\n",
        "creds, _ = default()\n",
        "# izin gspread \n",
        "gc = gspread.authorize(creds)\n",
        "\n",
        "# buka googlesheet\n",
        "ws = gc.open('Data Waspas')\n",
        "sh = ws.get_worksheet(0)\n",
        "\n",
        "\n",
        "\n",
        "# goolesheet to panda dataframe\n",
        "df = pd.DataFrame(sh.get_all_records())\n",
        "\n",
        "pd.DataFrame(df)"
      ]
    },
    {
      "cell_type": "code",
      "source": [],
      "metadata": {
        "id": "cosCDizDAPE-"
      },
      "execution_count": null,
      "outputs": []
    },
    {
      "cell_type": "code",
      "execution_count": 2,
      "metadata": {
        "colab": {
          "base_uri": "https://localhost:8080/"
        },
        "id": "IBfogMa0Fecb",
        "outputId": "a15792f1-8763-4ccd-a58a-01217201954f"
      },
      "outputs": [
        {
          "output_type": "stream",
          "name": "stdout",
          "text": [
            "Writing Waspas.py\n"
          ]
        }
      ],
      "source": [
        "# make file\n",
        "%%writefile Waspas.py \n",
        "import streamlit as st \n",
        "st.write(\"yes\")"
      ]
    },
    {
      "cell_type": "code",
      "execution_count": 5,
      "metadata": {
        "colab": {
          "base_uri": "https://localhost:8080/"
        },
        "id": "WiXH7jOgGPVY",
        "outputId": "7d684b8e-e60c-4f5e-f3b6-826833f6f207"
      },
      "outputs": [
        {
          "output_type": "stream",
          "name": "stdout",
          "text": [
            "/bin/bash: streamlit: command not found\n",
            "\u001b[K\u001b[?25hnpx: installed 22 in 1.716s\n",
            "your url is: https://eight-results-mix-34-125-25-151.loca.lt\n",
            "^C\n"
          ]
        }
      ],
      "source": [
        "!streamlit run /content/Waspas.py & npx localtunnel --port 8501"
      ]
    }
  ],
  "metadata": {
    "colab": {
      "collapsed_sections": [],
      "provenance": [],
      "authorship_tag": "ABX9TyNELotubgFr1ZJjy8IYygnQ",
      "include_colab_link": true
    },
    "kernelspec": {
      "display_name": "Python 3",
      "name": "python3"
    },
    "language_info": {
      "name": "python"
    }
  },
  "nbformat": 4,
  "nbformat_minor": 0
}